{
 "cells": [
  {
   "cell_type": "markdown",
   "id": "imposed-somewhere",
   "metadata": {},
   "source": [
    "# Estruturas de Dados"
   ]
  },
  {
   "cell_type": "markdown",
   "id": "british-kinase",
   "metadata": {},
   "source": [
    "Tutorial para estudo sobre três estruturas de dados disponíveis em python e manipulação destas."
   ]
  },
  {
   "cell_type": "markdown",
   "id": "acting-stuart",
   "metadata": {},
   "source": [
    "## Lista"
   ]
  },
  {
   "cell_type": "markdown",
   "id": "tamil-hurricane",
   "metadata": {},
   "source": [
    "Crie sua lista de compras, com 5 itens da sua lista de compra."
   ]
  },
  {
   "cell_type": "code",
   "execution_count": 12,
   "id": "orange-weekend",
   "metadata": {},
   "outputs": [],
   "source": [
    "lista_de_compras = list((\"abacate\", \"pasta de amendoim\", \"uva\", \"batata\", \"chocolate\"))"
   ]
  },
  {
   "cell_type": "markdown",
   "id": "quantitative-millennium",
   "metadata": {},
   "source": [
    "Print sua lista de compras com um 'for', com um número antes, da seguinte maneira:  \n",
    "1 - item 1  \n",
    "2 - item 2  \n",
    "... \n",
    "\n",
    "Dica: use str( ) na hora de printar o int"
   ]
  },
  {
   "cell_type": "code",
   "execution_count": 15,
   "id": "hungarian-shelter",
   "metadata": {},
   "outputs": [
    {
     "name": "stdout",
     "output_type": "stream",
     "text": [
      "1 - abacate\n",
      "2 - pasta de amendoim\n",
      "3 - uva\n",
      "4 - batata\n",
      "5 - chocolate\n"
     ]
    }
   ],
   "source": [
    "count = 0\n",
    "for item in lista_de_compras:\n",
    "    count += 1\n",
    "    print(str(count) + ' - ' + item)"
   ]
  },
  {
   "cell_type": "markdown",
   "id": "forward-middle",
   "metadata": {},
   "source": [
    "Mostre o tamanho da lista"
   ]
  },
  {
   "cell_type": "code",
   "execution_count": 16,
   "id": "quantitative-prairie",
   "metadata": {},
   "outputs": [
    {
     "name": "stdout",
     "output_type": "stream",
     "text": [
      "5\n"
     ]
    }
   ],
   "source": [
    "print(len(lista_de_compras))"
   ]
  },
  {
   "cell_type": "markdown",
   "id": "outside-enemy",
   "metadata": {},
   "source": [
    "Insira o número de coisas da lista que tem em sua casa com a função append( ) "
   ]
  },
  {
   "cell_type": "code",
   "execution_count": 18,
   "id": "developed-armor",
   "metadata": {},
   "outputs": [],
   "source": [
    "lista_de_compras.append(4)"
   ]
  },
  {
   "cell_type": "markdown",
   "id": "interstate-shakespeare",
   "metadata": {},
   "source": [
    "Printe sua lista"
   ]
  },
  {
   "cell_type": "code",
   "execution_count": 19,
   "id": "caroline-insight",
   "metadata": {},
   "outputs": [
    {
     "data": {
      "text/plain": [
       "['abacate', 'pasta de amendoim', 'uva', 'batata', 'chocolate', 4]"
      ]
     },
     "execution_count": 19,
     "metadata": {},
     "output_type": "execute_result"
    }
   ],
   "source": [
    "lista_de_compras"
   ]
  },
  {
   "cell_type": "markdown",
   "id": "killing-visit",
   "metadata": {},
   "source": [
    "Apague o número agora inserido com a função pop( )"
   ]
  },
  {
   "cell_type": "code",
   "execution_count": 21,
   "id": "helpful-telling",
   "metadata": {},
   "outputs": [
    {
     "data": {
      "text/plain": [
       "4"
      ]
     },
     "execution_count": 21,
     "metadata": {},
     "output_type": "execute_result"
    }
   ],
   "source": [
    "lista_de_compras.pop()"
   ]
  },
  {
   "cell_type": "code",
   "execution_count": 22,
   "id": "classical-joseph",
   "metadata": {},
   "outputs": [
    {
     "data": {
      "text/plain": [
       "['abacate', 'pasta de amendoim', 'uva', 'batata', 'chocolate']"
      ]
     },
     "execution_count": 22,
     "metadata": {},
     "output_type": "execute_result"
    }
   ],
   "source": [
    "lista_de_compras"
   ]
  },
  {
   "cell_type": "markdown",
   "id": "industrial-flight",
   "metadata": {},
   "source": [
    "Apague o primeiro item da sua lista com a função pop( )"
   ]
  },
  {
   "cell_type": "code",
   "execution_count": 23,
   "id": "desirable-summary",
   "metadata": {},
   "outputs": [
    {
     "data": {
      "text/plain": [
       "'abacate'"
      ]
     },
     "execution_count": 23,
     "metadata": {},
     "output_type": "execute_result"
    }
   ],
   "source": [
    "lista_de_compras.pop(0)"
   ]
  },
  {
   "cell_type": "code",
   "execution_count": 24,
   "id": "ideal-confirmation",
   "metadata": {},
   "outputs": [
    {
     "data": {
      "text/plain": [
       "['pasta de amendoim', 'uva', 'batata', 'chocolate']"
      ]
     },
     "execution_count": 24,
     "metadata": {},
     "output_type": "execute_result"
    }
   ],
   "source": [
    "lista_de_compras"
   ]
  },
  {
   "cell_type": "markdown",
   "id": "extreme-merchandise",
   "metadata": {},
   "source": [
    "Apague o segundo último valor da sua lista atual com a função remove( )"
   ]
  },
  {
   "cell_type": "code",
   "execution_count": 29,
   "id": "explicit-leadership",
   "metadata": {},
   "outputs": [],
   "source": [
    "lista_de_compras.remove('chocolate')"
   ]
  },
  {
   "cell_type": "code",
   "execution_count": 30,
   "id": "activated-jewelry",
   "metadata": {},
   "outputs": [
    {
     "data": {
      "text/plain": [
       "['pasta de amendoim', 'uva', 'batata']"
      ]
     },
     "execution_count": 30,
     "metadata": {},
     "output_type": "execute_result"
    }
   ],
   "source": [
    "lista_de_compras"
   ]
  },
  {
   "cell_type": "markdown",
   "id": "sustained-stick",
   "metadata": {},
   "source": [
    "## Dicionário"
   ]
  },
  {
   "cell_type": "markdown",
   "id": "requested-charlotte",
   "metadata": {},
   "source": [
    "Crie um dicionário com a seguinte estrutura:\n",
    "    {\n",
    "        'nome': 'seu primeiro nome',\n",
    "        'ano-de-nascimento': 1111,\n",
    "        'curso': 'graduação que você fez/faz'\n",
    "    }"
   ]
  },
  {
   "cell_type": "code",
   "execution_count": 2,
   "id": "fuzzy-values",
   "metadata": {},
   "outputs": [],
   "source": [
    "dicionario =  { 'nome': 'Aline', 'ano-de-nascimento': 1999, 'curso': 'Ciência da Computação' }"
   ]
  },
  {
   "cell_type": "markdown",
   "id": "international-blackjack",
   "metadata": {},
   "source": [
    "Veja quais são as keys do seu dicionário"
   ]
  },
  {
   "cell_type": "code",
   "execution_count": 7,
   "id": "certain-investigation",
   "metadata": {},
   "outputs": [
    {
     "data": {
      "text/plain": [
       "dict_keys(['nome', 'ano-de-nascimento', 'curso'])"
      ]
     },
     "execution_count": 7,
     "metadata": {},
     "output_type": "execute_result"
    }
   ],
   "source": [
    "dicionario.keys()"
   ]
  },
  {
   "cell_type": "markdown",
   "id": "failing-jenny",
   "metadata": {},
   "source": [
    "Print o dado do seu nome"
   ]
  },
  {
   "cell_type": "code",
   "execution_count": 3,
   "id": "excellent-tours",
   "metadata": {},
   "outputs": [
    {
     "name": "stdout",
     "output_type": "stream",
     "text": [
      "Aline\n"
     ]
    }
   ],
   "source": [
    "print(dicionario['nome'])"
   ]
  },
  {
   "cell_type": "markdown",
   "id": "african-simulation",
   "metadata": {},
   "source": [
    "Adicione seu segundo nome e substitua no dicionário"
   ]
  },
  {
   "cell_type": "code",
   "execution_count": 5,
   "id": "forty-flour",
   "metadata": {},
   "outputs": [],
   "source": [
    "dicionario['nome'] = dicionario['nome'] + ' Guimarães' "
   ]
  },
  {
   "cell_type": "code",
   "execution_count": 6,
   "id": "fossil-environment",
   "metadata": {},
   "outputs": [
    {
     "name": "stdout",
     "output_type": "stream",
     "text": [
      "Aline Guimarães\n"
     ]
    }
   ],
   "source": [
    "print(dicionario['nome'])"
   ]
  },
  {
   "cell_type": "markdown",
   "id": "blond-frank",
   "metadata": {},
   "source": [
    "Adicione uma nova informação ao seu dicionário, sobre o dia que você nasceu"
   ]
  },
  {
   "cell_type": "code",
   "execution_count": 10,
   "id": "collect-cartridge",
   "metadata": {},
   "outputs": [],
   "source": [
    "dicionario['dia-de-nascimento'] = 3"
   ]
  },
  {
   "cell_type": "code",
   "execution_count": 11,
   "id": "alert-nicaragua",
   "metadata": {},
   "outputs": [
    {
     "data": {
      "text/plain": [
       "{'nome': 'Aline Guimarães',\n",
       " 'ano-de-nascimento': 1999,\n",
       " 'curso': 'Ciência da Computação',\n",
       " 'dia-de-nascimento': 3}"
      ]
     },
     "execution_count": 11,
     "metadata": {},
     "output_type": "execute_result"
    }
   ],
   "source": [
    "dicionario"
   ]
  },
  {
   "cell_type": "markdown",
   "id": "rising-hayes",
   "metadata": {},
   "source": [
    "## Tupla"
   ]
  },
  {
   "cell_type": "markdown",
   "id": "southeast-miami",
   "metadata": {},
   "source": [
    "Crie duas tuplas com, respectivamente:\n",
    "- 5 primeiras letras do alfabeto;\n",
    "- 5 números aleatórios; "
   ]
  },
  {
   "cell_type": "code",
   "execution_count": 35,
   "id": "passing-latex",
   "metadata": {},
   "outputs": [],
   "source": [
    "tuple1 = (\"a\", \"b\", \"c\", \"d\", \"e\")\n",
    "tuple2 = (3, 5, 17, 13, 9)"
   ]
  },
  {
   "cell_type": "code",
   "execution_count": 36,
   "id": "promotional-catalyst",
   "metadata": {},
   "outputs": [
    {
     "data": {
      "text/plain": [
       "('a', 'b', 'c', 'd', 'e')"
      ]
     },
     "execution_count": 36,
     "metadata": {},
     "output_type": "execute_result"
    }
   ],
   "source": [
    "tuple1"
   ]
  },
  {
   "cell_type": "code",
   "execution_count": 37,
   "id": "mental-acceptance",
   "metadata": {},
   "outputs": [
    {
     "data": {
      "text/plain": [
       "(3, 5, 17, 13, 9)"
      ]
     },
     "execution_count": 37,
     "metadata": {},
     "output_type": "execute_result"
    }
   ],
   "source": [
    "tuple2"
   ]
  },
  {
   "cell_type": "markdown",
   "id": "proprietary-trash",
   "metadata": {},
   "source": [
    "Concatene as duas tuplas em uma terceira tupla"
   ]
  },
  {
   "cell_type": "code",
   "execution_count": 38,
   "id": "according-bottle",
   "metadata": {},
   "outputs": [
    {
     "name": "stdout",
     "output_type": "stream",
     "text": [
      "('a', 'b', 'c', 'd', 'e', 3, 5, 17, 13, 9)\n"
     ]
    }
   ],
   "source": [
    "tuple3 = tuple1 + tuple2\n",
    "print(tuple3)"
   ]
  },
  {
   "cell_type": "markdown",
   "id": "entitled-removal",
   "metadata": {},
   "source": [
    "Acesse a letra 'd' na terceira tupla"
   ]
  },
  {
   "cell_type": "code",
   "execution_count": 39,
   "id": "processed-perth",
   "metadata": {},
   "outputs": [
    {
     "data": {
      "text/plain": [
       "'d'"
      ]
     },
     "execution_count": 39,
     "metadata": {},
     "output_type": "execute_result"
    }
   ],
   "source": [
    "tuple3[3]"
   ]
  },
  {
   "cell_type": "markdown",
   "id": "hazardous-injury",
   "metadata": {},
   "source": [
    "Adicione um número aleatório ao final da tupla"
   ]
  },
  {
   "cell_type": "code",
   "execution_count": 40,
   "id": "civil-telling",
   "metadata": {},
   "outputs": [],
   "source": [
    "tuple4 = list(tuple3)\n",
    "tuple4.append(6)\n",
    "tuple3 = tuple(tuple4)"
   ]
  },
  {
   "cell_type": "code",
   "execution_count": 41,
   "id": "conditional-doctrine",
   "metadata": {},
   "outputs": [
    {
     "data": {
      "text/plain": [
       "('a', 'b', 'c', 'd', 'e', 3, 5, 17, 13, 9, 6)"
      ]
     },
     "execution_count": 41,
     "metadata": {},
     "output_type": "execute_result"
    }
   ],
   "source": [
    "tuple3"
   ]
  },
  {
   "cell_type": "markdown",
   "id": "industrial-experiment",
   "metadata": {},
   "source": [
    "\"Unpack\" a primeira tupla com as cinco primeiras letras em variáveis com suas respectivas letras e depois printe"
   ]
  },
  {
   "cell_type": "code",
   "execution_count": 43,
   "id": "interracial-faith",
   "metadata": {},
   "outputs": [],
   "source": [
    "(a, b, c, d, e) = tuple1"
   ]
  },
  {
   "cell_type": "code",
   "execution_count": 44,
   "id": "official-budget",
   "metadata": {},
   "outputs": [
    {
     "name": "stdout",
     "output_type": "stream",
     "text": [
      "a\n"
     ]
    }
   ],
   "source": [
    "print(a)"
   ]
  },
  {
   "cell_type": "code",
   "execution_count": 45,
   "id": "residential-surgeon",
   "metadata": {},
   "outputs": [
    {
     "name": "stdout",
     "output_type": "stream",
     "text": [
      "e\n"
     ]
    }
   ],
   "source": [
    "print(e)"
   ]
  },
  {
   "cell_type": "markdown",
   "id": "universal-cache",
   "metadata": {},
   "source": [
    "# Número par ou ímpar"
   ]
  },
  {
   "cell_type": "markdown",
   "id": "coastal-pregnancy",
   "metadata": {},
   "source": [
    "Crie uma função que verifica se um número é par ou ímpar "
   ]
  },
  {
   "cell_type": "code",
   "execution_count": 25,
   "id": "dried-alberta",
   "metadata": {},
   "outputs": [],
   "source": [
    "def parOuImpar(numero):\n",
    "    # numero % 2 == resto de numero / 2\n",
    "    if numero % 2 == 0:\n",
    "        return 'par'\n",
    "    elif numero % 2 != 0:\n",
    "        return 'ímpar'\n",
    "    else: \n",
    "        return 'não sei'"
   ]
  },
  {
   "cell_type": "markdown",
   "id": "least-pakistan",
   "metadata": {},
   "source": [
    "Verifique com um número par e ímpar"
   ]
  },
  {
   "cell_type": "code",
   "execution_count": 27,
   "id": "mechanical-knife",
   "metadata": {},
   "outputs": [
    {
     "data": {
      "text/plain": [
       "'ímpar'"
      ]
     },
     "execution_count": 27,
     "metadata": {},
     "output_type": "execute_result"
    }
   ],
   "source": [
    "parOuImpar(9)"
   ]
  },
  {
   "cell_type": "code",
   "execution_count": 28,
   "id": "commercial-hierarchy",
   "metadata": {},
   "outputs": [
    {
     "data": {
      "text/plain": [
       "'par'"
      ]
     },
     "execution_count": 28,
     "metadata": {},
     "output_type": "execute_result"
    }
   ],
   "source": [
    "parOuImpar(2)"
   ]
  }
 ],
 "metadata": {
  "kernelspec": {
   "display_name": "Python 3",
   "language": "python",
   "name": "python3"
  },
  "language_info": {
   "codemirror_mode": {
    "name": "ipython",
    "version": 3
   },
   "file_extension": ".py",
   "mimetype": "text/x-python",
   "name": "python",
   "nbconvert_exporter": "python",
   "pygments_lexer": "ipython3",
   "version": "3.8.2"
  }
 },
 "nbformat": 4,
 "nbformat_minor": 5
}
