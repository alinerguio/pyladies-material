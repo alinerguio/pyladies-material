{
 "cells": [
  {
   "cell_type": "code",
   "execution_count": 1,
   "id": "9b0c31f8",
   "metadata": {},
   "outputs": [],
   "source": [
    "import pandas as pd"
   ]
  },
  {
   "cell_type": "code",
   "execution_count": 4,
   "id": "b304b2e6",
   "metadata": {},
   "outputs": [
    {
     "name": "stdout",
     "output_type": "stream",
     "text": [
      "  first  second  third\n",
      "0     1       1      0\n",
      "1     2       2      1\n",
      "2     3       3      0\n",
      "3     4       4      1\n"
     ]
    }
   ],
   "source": [
    "import pandas as pd\n",
    "\n",
    "first = ['1', '2', '3', '4']\n",
    "second = [1, 2, 3, 4]\n",
    "\n",
    "df = pd.DataFrame({'first': first,\n",
    "                   'second': second})\n",
    "\n",
    "new_column = df.assign(third=[0, 1, 0, 1])\n",
    "\n",
    "print(new_df)"
   ]
  },
  {
   "cell_type": "code",
   "execution_count": null,
   "id": "92d65b07",
   "metadata": {},
   "outputs": [],
   "source": []
  }
 ],
 "metadata": {
  "kernelspec": {
   "display_name": "Python 3 (ipykernel)",
   "language": "python",
   "name": "python3"
  },
  "language_info": {
   "codemirror_mode": {
    "name": "ipython",
    "version": 3
   },
   "file_extension": ".py",
   "mimetype": "text/x-python",
   "name": "python",
   "nbconvert_exporter": "python",
   "pygments_lexer": "ipython3",
   "version": "3.9.5"
  }
 },
 "nbformat": 4,
 "nbformat_minor": 5
}
