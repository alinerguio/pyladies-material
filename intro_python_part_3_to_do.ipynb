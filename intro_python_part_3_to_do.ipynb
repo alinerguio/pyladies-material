{
 "cells": [
  {
   "cell_type": "markdown",
   "id": "ca59f7b5",
   "metadata": {},
   "source": [
    "## List Comprehension ou Compreensão de Lista\n",
    "\n",
    "Uma forma rápida e eficiente de criar uma lista a partir de outra lista. Principalmente utilizada em formatos de programação funcional. \n",
    "\n",
    "Mais sobre: https://www.kaggle.com/colinmorris/loops-and-list-comprehensions"
   ]
  },
  {
   "cell_type": "markdown",
   "id": "b9eae42a",
   "metadata": {},
   "source": [
    "### Exemplificando\n",
    "Como colocar todos os planetas da lista em letra maiúscula e com um ponto de exclamação no final?\n",
    "\n",
    "**Dica:** função *upper()*"
   ]
  },
  {
   "cell_type": "code",
   "execution_count": 7,
   "id": "0771155f",
   "metadata": {},
   "outputs": [],
   "source": [
    "planetas = ['Mercúrio', 'Vênus', 'Terra', 'Marte', 'Júpiter', 'Saturno', 'Urano', 'Netuno', 'Plutão']\n",
    "planetas_modificados = list()"
   ]
  },
  {
   "cell_type": "code",
   "execution_count": 8,
   "id": "5ef456d1",
   "metadata": {},
   "outputs": [],
   "source": []
  },
  {
   "cell_type": "code",
   "execution_count": 9,
   "id": "358f934b",
   "metadata": {},
   "outputs": [
    {
     "data": {
      "text/plain": [
       "['MERCÚRIO!',\n",
       " 'VÊNUS!',\n",
       " 'TERRA!',\n",
       " 'MARTE!',\n",
       " 'JÚPITER!',\n",
       " 'SATURNO!',\n",
       " 'URANO!',\n",
       " 'NETUNO!',\n",
       " 'PLUTÃO!']"
      ]
     },
     "execution_count": 9,
     "metadata": {},
     "output_type": "execute_result"
    }
   ],
   "source": []
  },
  {
   "cell_type": "code",
   "execution_count": 12,
   "id": "993591de",
   "metadata": {},
   "outputs": [],
   "source": []
  },
  {
   "cell_type": "code",
   "execution_count": 13,
   "id": "9dd9fd6a",
   "metadata": {},
   "outputs": [
    {
     "data": {
      "text/plain": [
       "['MERCÚRIO!',\n",
       " 'VÊNUS!',\n",
       " 'TERRA!',\n",
       " 'MARTE!',\n",
       " 'JÚPITER!',\n",
       " 'SATURNO!',\n",
       " 'URANO!',\n",
       " 'NETUNO!',\n",
       " 'PLUTÃO!']"
      ]
     },
     "execution_count": 13,
     "metadata": {},
     "output_type": "execute_result"
    }
   ],
   "source": []
  },
  {
   "cell_type": "markdown",
   "id": "339725fa",
   "metadata": {},
   "source": [
    "### Exemplificando\n",
    "\n",
    "Como obter o quadrado de todos números da lista, desde que ele seja par? (Caso seja ímpar, somente manter)\n",
    "\n",
    "**Dica:** criar uma função de **multiplicar por 2**."
   ]
  },
  {
   "cell_type": "code",
   "execution_count": 14,
   "id": "041fc1b5",
   "metadata": {},
   "outputs": [],
   "source": [
    "import random"
   ]
  },
  {
   "cell_type": "code",
   "execution_count": 1,
   "id": "8fb39de9",
   "metadata": {},
   "outputs": [],
   "source": [
    "# numeros = [random.randint(1, 50) for i in range(10)]\n",
    "# numeros.sort()\n",
    "numeros = [2, 11, 13, 22, 34, 37, 40, 42, 42, 47]"
   ]
  },
  {
   "cell_type": "code",
   "execution_count": 44,
   "id": "56a5472a",
   "metadata": {},
   "outputs": [
    {
     "data": {
      "text/plain": [
       "[2, 11, 13, 22, 34, 37, 40, 42, 42, 47]"
      ]
     },
     "execution_count": 44,
     "metadata": {},
     "output_type": "execute_result"
    }
   ],
   "source": []
  },
  {
   "cell_type": "code",
   "execution_count": 45,
   "id": "47af9f9f",
   "metadata": {},
   "outputs": [],
   "source": []
  },
  {
   "cell_type": "code",
   "execution_count": 46,
   "id": "76dd71b5",
   "metadata": {},
   "outputs": [],
   "source": []
  },
  {
   "cell_type": "code",
   "execution_count": 47,
   "id": "c87100d0",
   "metadata": {},
   "outputs": [
    {
     "data": {
      "text/plain": [
       "[4, 11, 13, 484, 1156, 37, 1600, 1764, 1764, 47]"
      ]
     },
     "execution_count": 47,
     "metadata": {},
     "output_type": "execute_result"
    }
   ],
   "source": []
  },
  {
   "cell_type": "code",
   "execution_count": 48,
   "id": "198278ae",
   "metadata": {},
   "outputs": [],
   "source": []
  },
  {
   "cell_type": "code",
   "execution_count": 49,
   "id": "48f32829",
   "metadata": {},
   "outputs": [
    {
     "data": {
      "text/plain": [
       "[4, 11, 13, 484, 1156, 37, 1600, 1764, 1764, 47]"
      ]
     },
     "execution_count": 49,
     "metadata": {},
     "output_type": "execute_result"
    }
   ],
   "source": []
  },
  {
   "cell_type": "markdown",
   "id": "1bc6dd94",
   "metadata": {},
   "source": [
    "## Lambda\n",
    "\n",
    "Consiste em uma função que é atribuida a um objeto, de forma que funciona como uma função normal, mas só contem uma linha.\n",
    "\n",
    "Mais sobre: https://www.w3schools.com/python/python_lambda.asp"
   ]
  },
  {
   "cell_type": "markdown",
   "id": "bfbd6b8f",
   "metadata": {},
   "source": [
    "### Exemplificando\n",
    "\n",
    "Como executar o exemplo anterior, com a mesma lista de input, porém utilizando conceitos de lambda?"
   ]
  },
  {
   "cell_type": "code",
   "execution_count": 55,
   "id": "77ab2b1e",
   "metadata": {},
   "outputs": [
    {
     "data": {
      "text/plain": [
       "[2, 11, 13, 22, 34, 37, 40, 42, 42, 47]"
      ]
     },
     "execution_count": 55,
     "metadata": {},
     "output_type": "execute_result"
    }
   ],
   "source": []
  },
  {
   "cell_type": "code",
   "execution_count": 2,
   "id": "0d651298",
   "metadata": {},
   "outputs": [],
   "source": []
  },
  {
   "cell_type": "code",
   "execution_count": 3,
   "id": "cabc5c05",
   "metadata": {},
   "outputs": [],
   "source": []
  },
  {
   "cell_type": "code",
   "execution_count": 4,
   "id": "cc4e6d39",
   "metadata": {},
   "outputs": [
    {
     "data": {
      "text/plain": [
       "[4, 11, 13, 484, 1156, 37, 1600, 1764, 1764, 47]"
      ]
     },
     "execution_count": 4,
     "metadata": {},
     "output_type": "execute_result"
    }
   ],
   "source": []
  },
  {
   "cell_type": "markdown",
   "id": "f1ab5b08",
   "metadata": {},
   "source": [
    "### Exemplificando\n",
    "\n",
    "Como duplicar todos os números da lista *numeros*, porém utilizando conceitos de **lambda**?\n",
    "\n",
    "Dica: função **map()** pode ser útil."
   ]
  },
  {
   "cell_type": "markdown",
   "id": "90615612",
   "metadata": {},
   "source": [
    "### Conceito\n",
    "\n",
    "#### map(função, estrutura iterável)\n",
    "\n",
    "- função: lambda, def é a **função de transformação** que será aplicada a **cada elemento da estrutura iterável** do segundo parâmetro\n",
    "- iteráveis: lista, set, tupla que será iterado "
   ]
  },
  {
   "cell_type": "code",
   "execution_count": 53,
   "id": "d10a75b7",
   "metadata": {},
   "outputs": [],
   "source": []
  },
  {
   "cell_type": "code",
   "execution_count": 54,
   "id": "3c6f64ae",
   "metadata": {},
   "outputs": [
    {
     "data": {
      "text/plain": [
       "[4, 121, 169, 484, 1156, 1369, 1600, 1764, 1764, 2209]"
      ]
     },
     "execution_count": 54,
     "metadata": {},
     "output_type": "execute_result"
    }
   ],
   "source": []
  },
  {
   "cell_type": "markdown",
   "id": "86b305a2",
   "metadata": {},
   "source": [
    "Exercício extra: https://www.w3schools.com/python/exercise.asp?filename=exercise_lambda1 "
   ]
  },
  {
   "cell_type": "markdown",
   "id": "39d8e076",
   "metadata": {},
   "source": [
    "## Sets \n",
    "\n",
    "É uma das 4 estruturas prontas do python, e é uma coleção de itens únicos. Este tem o foco principal em ser uma representação de um **conjunto** na matemática, logo, operações de união, interseção, diferença de conjuntos, etc, são mais eficientes quando usando este tipo de estrutura.\n",
    "\n",
    "Mais sobre: https://www.w3schools.com/python/python_sets.asp"
   ]
  },
  {
   "cell_type": "code",
   "execution_count": 66,
   "id": "0f2ba90d",
   "metadata": {},
   "outputs": [],
   "source": [
    "# conjunto_1 = {random.randint(1, 10) for i in range(5)}\n",
    "# conjunto_2 = {random.randint(1, 10) for i in range(5)}\n",
    "conjunto_1 = {1, 2, 3, 6, 8}\n",
    "conjunto_2 = {1, 6, 8, 10}"
   ]
  },
  {
   "cell_type": "code",
   "execution_count": 67,
   "id": "44856bc9",
   "metadata": {},
   "outputs": [
    {
     "data": {
      "text/plain": [
       "{1, 2, 3, 6, 8}"
      ]
     },
     "execution_count": 67,
     "metadata": {},
     "output_type": "execute_result"
    }
   ],
   "source": []
  },
  {
   "cell_type": "code",
   "execution_count": 68,
   "id": "2d5a55a0",
   "metadata": {},
   "outputs": [
    {
     "data": {
      "text/plain": [
       "{1, 6, 8, 10}"
      ]
     },
     "execution_count": 68,
     "metadata": {},
     "output_type": "execute_result"
    }
   ],
   "source": []
  },
  {
   "cell_type": "code",
   "execution_count": 76,
   "id": "4633c07a",
   "metadata": {},
   "outputs": [],
   "source": [
    "# adicionar 3, 7 e 8 "
   ]
  },
  {
   "cell_type": "code",
   "execution_count": 77,
   "id": "a68fff18",
   "metadata": {},
   "outputs": [
    {
     "data": {
      "text/plain": [
       "{1, 2, 3, 5, 6, 7, 8}"
      ]
     },
     "execution_count": 77,
     "metadata": {},
     "output_type": "execute_result"
    }
   ],
   "source": []
  },
  {
   "cell_type": "code",
   "execution_count": 91,
   "id": "b1c57f81",
   "metadata": {},
   "outputs": [
    {
     "data": {
      "text/plain": [
       "{3, 5, 7}"
      ]
     },
     "execution_count": 91,
     "metadata": {},
     "output_type": "execute_result"
    }
   ],
   "source": [
    "#conjunto_3 = [3, 5, 7]\n",
    "conjunto_3 = set([3, 3, 5, 7, 7, 7])\n",
    "conjunto_3"
   ]
  },
  {
   "cell_type": "code",
   "execution_count": 86,
   "id": "dae768a2",
   "metadata": {},
   "outputs": [],
   "source": [
    "# adicionar conjunto 3 ao conjunto 2"
   ]
  },
  {
   "cell_type": "code",
   "execution_count": 87,
   "id": "3421975b",
   "metadata": {},
   "outputs": [
    {
     "data": {
      "text/plain": [
       "{1, 3, 5, 6, 7, 8, 9, 10}"
      ]
     },
     "execution_count": 87,
     "metadata": {},
     "output_type": "execute_result"
    }
   ],
   "source": []
  },
  {
   "cell_type": "code",
   "execution_count": 81,
   "id": "652f1ad8",
   "metadata": {},
   "outputs": [],
   "source": []
  },
  {
   "cell_type": "code",
   "execution_count": 83,
   "id": "d7aeb2e1",
   "metadata": {},
   "outputs": [
    {
     "data": {
      "text/plain": [
       "{1, 2, 3, 5, 6, 7}"
      ]
     },
     "execution_count": 83,
     "metadata": {},
     "output_type": "execute_result"
    }
   ],
   "source": [
    "# conjunto 1 modificado com remocao"
   ]
  },
  {
   "cell_type": "code",
   "execution_count": 94,
   "id": "a7bd3310",
   "metadata": {},
   "outputs": [
    {
     "ename": "KeyError",
     "evalue": "0",
     "output_type": "error",
     "traceback": [
      "\u001b[0;31m---------------------------------------------------------------------------\u001b[0m",
      "\u001b[0;31mKeyError\u001b[0m                                  Traceback (most recent call last)",
      "\u001b[0;32m/var/folders/yd/znkrnwpj7w57hskw8n484n500000gn/T/ipykernel_1915/2882607333.py\u001b[0m in \u001b[0;36m<module>\u001b[0;34m\u001b[0m\n\u001b[0;32m----> 1\u001b[0;31m \u001b[0mconjunto_1\u001b[0m\u001b[0;34m.\u001b[0m\u001b[0mremove\u001b[0m\u001b[0;34m(\u001b[0m\u001b[0;36m0\u001b[0m\u001b[0;34m)\u001b[0m\u001b[0;34m\u001b[0m\u001b[0;34m\u001b[0m\u001b[0m\n\u001b[0m",
      "\u001b[0;31mKeyError\u001b[0m: 0"
     ]
    }
   ],
   "source": [
    "conjunto_1.remove(0) "
   ]
  },
  {
   "cell_type": "code",
   "execution_count": 95,
   "id": "084afe92",
   "metadata": {},
   "outputs": [],
   "source": [
    "# conjunto 1 modificado com descarte"
   ]
  },
  {
   "cell_type": "code",
   "execution_count": 96,
   "id": "e5e9b240",
   "metadata": {},
   "outputs": [],
   "source": [
    "# remove somente se existe\n",
    "conjunto_1.discard(0) "
   ]
  },
  {
   "cell_type": "code",
   "execution_count": 97,
   "id": "fbd89536",
   "metadata": {},
   "outputs": [
    {
     "data": {
      "text/plain": [
       "{1, 3, 5, 6, 7, 8, 10}"
      ]
     },
     "execution_count": 97,
     "metadata": {},
     "output_type": "execute_result"
    }
   ],
   "source": []
  },
  {
   "cell_type": "code",
   "execution_count": 93,
   "id": "be330598",
   "metadata": {},
   "outputs": [
    {
     "name": "stdout",
     "output_type": "stream",
     "text": [
      "Elemento:  1\n",
      "Elemento:  2\n",
      "Elemento:  3\n",
      "Elemento:  5\n",
      "Elemento:  6\n",
      "Elemento:  7\n"
     ]
    }
   ],
   "source": [
    "# printar conjunto 1"
   ]
  },
  {
   "cell_type": "markdown",
   "id": "974afa11",
   "metadata": {},
   "source": [
    "### União"
   ]
  },
  {
   "cell_type": "code",
   "execution_count": 100,
   "id": "1a82823e",
   "metadata": {},
   "outputs": [
    {
     "data": {
      "text/plain": [
       "{1, 2, 3, 5, 6, 7}"
      ]
     },
     "execution_count": 100,
     "metadata": {},
     "output_type": "execute_result"
    }
   ],
   "source": []
  },
  {
   "cell_type": "code",
   "execution_count": 101,
   "id": "f067775a",
   "metadata": {},
   "outputs": [
    {
     "data": {
      "text/plain": [
       "{1, 3, 5, 6, 7, 8, 10}"
      ]
     },
     "execution_count": 101,
     "metadata": {},
     "output_type": "execute_result"
    }
   ],
   "source": []
  },
  {
   "cell_type": "code",
   "execution_count": 98,
   "id": "0d34a795",
   "metadata": {},
   "outputs": [],
   "source": []
  },
  {
   "cell_type": "code",
   "execution_count": 99,
   "id": "a402e1b1",
   "metadata": {},
   "outputs": [
    {
     "data": {
      "text/plain": [
       "{1, 2, 3, 5, 6, 7, 8, 10}"
      ]
     },
     "execution_count": 99,
     "metadata": {},
     "output_type": "execute_result"
    }
   ],
   "source": []
  },
  {
   "cell_type": "code",
   "execution_count": 102,
   "id": "2de69cee",
   "metadata": {},
   "outputs": [],
   "source": []
  },
  {
   "cell_type": "code",
   "execution_count": 103,
   "id": "ddd2aa96",
   "metadata": {},
   "outputs": [
    {
     "data": {
      "text/plain": [
       "{1, 2, 3, 5, 6, 7, 8, 10}"
      ]
     },
     "execution_count": 103,
     "metadata": {},
     "output_type": "execute_result"
    }
   ],
   "source": []
  },
  {
   "cell_type": "markdown",
   "id": "21841d1c",
   "metadata": {},
   "source": [
    "### Interseção"
   ]
  },
  {
   "cell_type": "code",
   "execution_count": 104,
   "id": "063eb247",
   "metadata": {},
   "outputs": [
    {
     "data": {
      "text/plain": [
       "{1, 2, 3, 5, 6, 7}"
      ]
     },
     "execution_count": 104,
     "metadata": {},
     "output_type": "execute_result"
    }
   ],
   "source": []
  },
  {
   "cell_type": "code",
   "execution_count": 105,
   "id": "cd3c8244",
   "metadata": {},
   "outputs": [
    {
     "data": {
      "text/plain": [
       "{1, 3, 5, 6, 7, 8, 10}"
      ]
     },
     "execution_count": 105,
     "metadata": {},
     "output_type": "execute_result"
    }
   ],
   "source": []
  },
  {
   "cell_type": "code",
   "execution_count": 111,
   "id": "07d44a21",
   "metadata": {},
   "outputs": [],
   "source": []
  },
  {
   "cell_type": "code",
   "execution_count": 112,
   "id": "2d69a5a0",
   "metadata": {},
   "outputs": [
    {
     "data": {
      "text/plain": [
       "{1, 3, 5, 6, 7}"
      ]
     },
     "execution_count": 112,
     "metadata": {},
     "output_type": "execute_result"
    }
   ],
   "source": []
  },
  {
   "cell_type": "code",
   "execution_count": 113,
   "id": "199c3140",
   "metadata": {},
   "outputs": [],
   "source": []
  },
  {
   "cell_type": "code",
   "execution_count": 114,
   "id": "6ab3c870",
   "metadata": {},
   "outputs": [
    {
     "data": {
      "text/plain": [
       "{1, 3, 5, 6, 7}"
      ]
     },
     "execution_count": 114,
     "metadata": {},
     "output_type": "execute_result"
    }
   ],
   "source": []
  },
  {
   "cell_type": "markdown",
   "id": "73c9f1ab",
   "metadata": {},
   "source": [
    "### Operações com conjuntos \n",
    "\n",
    "Mais informações em: https://algoritmosempython.com.br/cursos/programacao-python/conjuntos/"
   ]
  },
  {
   "attachments": {
    "Screen%20Shot%202021-08-07%20at%2014.49.44.png": {
     "image/png": "[encoded data removed]"
    }
   },
   "cell_type": "markdown",
   "id": "f1413f0b",
   "metadata": {},
   "source": [
    "![Screen%20Shot%202021-08-07%20at%2014.49.44.png](attachment:Screen%20Shot%202021-08-07%20at%2014.49.44.png)"
   ]
  },
  {
   "cell_type": "markdown",
   "id": "adabfbbb",
   "metadata": {},
   "source": [
    "Exercicícios extras: https://www.w3schools.com/python/exercise.asp?filename=exercise_sets1"
   ]
  }
 ],
 "metadata": {
  "kernelspec": {
   "display_name": "Python 3 (ipykernel)",
   "language": "python",
   "name": "python3"
  },
  "language_info": {
   "codemirror_mode": {
    "name": "ipython",
    "version": 3
   },
   "file_extension": ".py",
   "mimetype": "text/x-python",
   "name": "python",
   "nbconvert_exporter": "python",
   "pygments_lexer": "ipython3",
   "version": "3.9.5"
  }
 },
 "nbformat": 4,
 "nbformat_minor": 5
}
